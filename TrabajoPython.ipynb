{
 "cells": [
  {
   "cell_type": "markdown",
   "metadata": {},
   "source": [
    "# TRABAJO DE PYTHON\n",
    "\n",
    "### Este trabajo cuenta el 30% de la nota. La entrega será el 5 de Noviembre a las 23:59.\n",
    "\n",
    "### Resuelve los siguientes ejercicios en Python sin usar expresiones regulares\n",
    "\n",
    "#### Utiliza tantas celdas de código como necesites\n",
    "\n",
    "##\n",
    "\n",
    "\n",
    "\n",
    "\n",
    "\n",
    "\n",
    "\n"
   ]
  },
  {
   "cell_type": "markdown",
   "metadata": {},
   "source": [
    "### 1.- BUSCA LA SECUENCIA COMPLEMENTARIA\n",
    "#### Devuelve la secuencia complementaria de la siguiente secuencia de ADN\n"
   ]
  },
  {
   "cell_type": "markdown",
   "metadata": {},
   "source": [
    "Para hacer la secuencia complementaria he usado los bucles for e if. \n",
    "Esto lo he hecho para que cambiaran las bases de la cadena principal por la complementaria: A por T, T por A, C por G y G por C.\n",
    "Finalmente, he utilizado print() para ver la cadena complementaria resultante."
   ]
  },
  {
   "cell_type": "code",
   "execution_count": 36,
   "metadata": {},
   "outputs": [],
   "source": [
    "my_dna = \"ACTGATCGATTACGTATAGTATTTGCTATGAATTCCATACATATATATCGATGCGTTCAT\""
   ]
  },
  {
   "cell_type": "code",
   "execution_count": 37,
   "metadata": {},
   "outputs": [],
   "source": [
    "complementary_dna = \"\""
   ]
  },
  {
   "cell_type": "code",
   "execution_count": 38,
   "metadata": {},
   "outputs": [],
   "source": [
    "for base in my_dna:\n",
    "    if base == \"A\":\n",
    "        complementary_dna += \"T\"\n",
    "    if base == \"T\":\n",
    "        complementary_dna += \"A\"\n",
    "    if base == \"C\":\n",
    "        complementary_dna += \"G\"\n",
    "    if base == \"G\":\n",
    "        complementary_dna += \"C\""
   ]
  },
  {
   "cell_type": "code",
   "execution_count": 39,
   "metadata": {},
   "outputs": [
    {
     "name": "stdout",
     "output_type": "stream",
     "text": [
      "TGACTAGCTAATGCATATCATAAACGATACTTAAGGTATGTATATATAGCTACGCAAGTA\n"
     ]
    }
   ],
   "source": [
    "print(complementary_dna)"
   ]
  },
  {
   "cell_type": "markdown",
   "metadata": {},
   "source": [
    "##\n",
    "### 2.- FRAGMENTOS DE RESTRICCION\n",
    "#### Obtén los fragmentos de restricción de EcoRI, que tiene un sitio de corte en G*AATTC (la posición de corte se indica por el *).\n",
    "#### No uses expresiones regulares. \n",
    "#### Pista: utiliza la función find()"
   ]
  },
  {
   "cell_type": "markdown",
   "metadata": {},
   "source": [
    "Para este ejercicio lo primero que tengo que hacer es ver donde esta el sitio de corte (la posición), para ello uso la función find(\"GAATTC\"). Como tengo que extraer ambos fragmentos, en base al resultado anterior, los creo y los visualizo por medio de la función print(). "
   ]
  },
  {
   "cell_type": "markdown",
   "metadata": {},
   "source": [
    "El fragmento 1 va desde la posición 0 hasta mi punto de corte +1 (para que este primer fragmento contenga la G del punto de corte). El fragmento 2 contendrá desde el final del fragmento 1 hasta el final de la secuencia."
   ]
  },
  {
   "cell_type": "code",
   "execution_count": 5,
   "metadata": {
    "scrolled": true
   },
   "outputs": [],
   "source": [
    "my_dna = \"ACTGATCGATTACGTATAGTATTTGCTATGAATTCCATACATATATATCGATGCGTTCAT\""
   ]
  },
  {
   "cell_type": "code",
   "execution_count": 6,
   "metadata": {},
   "outputs": [],
   "source": [
    "cut_position = my_dna.find(\"GAATTC\")"
   ]
  },
  {
   "cell_type": "code",
   "execution_count": 7,
   "metadata": {},
   "outputs": [],
   "source": [
    "fragmento1 = my_dna[:cut_position + 1]\n",
    "fragmento2 = my_dna[cut_position + 1:]"
   ]
  },
  {
   "cell_type": "code",
   "execution_count": 8,
   "metadata": {},
   "outputs": [
    {
     "name": "stdout",
     "output_type": "stream",
     "text": [
      "ACTGATCGATTACGTATAGTATTTGCTATG\n"
     ]
    }
   ],
   "source": [
    "print(fragmento1)"
   ]
  },
  {
   "cell_type": "code",
   "execution_count": 9,
   "metadata": {},
   "outputs": [
    {
     "name": "stdout",
     "output_type": "stream",
     "text": [
      "AATTCCATACATATATATCGATGCGTTCAT\n"
     ]
    }
   ],
   "source": [
    "print(fragmento2)"
   ]
  },
  {
   "cell_type": "markdown",
   "metadata": {},
   "source": [
    "##\n",
    "### 3.- ENCUENTRA LOS EXONES\n",
    "#### Encuentra los exones en la siguiente secuencia\n",
    "1. El primer exón va de la primera base a la base 63 (empieza a contar desde 0)\n",
    "2. El segundo exón va de la base 91 (contando desde 0) hasta el final\n",
    "3. Calcula el porcentaje de secuencia codificante\n",
    "4. Imprime en pantalla la secuencia original con los exones en mayúsculas y los intrones en minúsculas"
   ]
  },
  {
   "cell_type": "code",
   "execution_count": 10,
   "metadata": {},
   "outputs": [],
   "source": [
    "genomic_dna = \"ATCGATCGATCGATCGACTGACTAGTCATAGCTATGCATGTAGCTACTCGATCGATCGATCGATCGATCGATCGATCGATCGATCATGCTATCATCGATCGATATCGATGCATCGACTACTAT\""
   ]
  },
  {
   "cell_type": "markdown",
   "metadata": {},
   "source": [
    "1. Para encontrar el exón que va desde la base 1 a la 63 tengo que empezar a contar desde 0, ya que en Python se cuenta -1. Sin embargo, como dijimos en la clase de dudas, cogemos hasta la base 63 en vez hasta la 62 por que sino nos saldría una longitud de 62 (lo miramos por medio de las función len()). Utilizo print() para visualizar el exón y lo nombro (\"Secuencia Exón 1:\")"
   ]
  },
  {
   "cell_type": "code",
   "execution_count": 11,
   "metadata": {
    "scrolled": false
   },
   "outputs": [
    {
     "name": "stdout",
     "output_type": "stream",
     "text": [
      "Secuencia Exón 1: ATCGATCGATCGATCGACTGACTAGTCATAGCTATGCATGTAGCTACTCGATCGATCGATCGA\n"
     ]
    }
   ],
   "source": [
    "exon1=genomic_dna[0:63]\n",
    "len(exon1)\n",
    "print(\"Secuencia Exón 1:\", exon1)"
   ]
  },
  {
   "cell_type": "markdown",
   "metadata": {},
   "source": [
    "2. Para obtener el exón 2 desde la base 91 hay que contar desde la base número 90 ya que estamos trabajando en Python. El procedimiento es el mismo que en el apartado anterior."
   ]
  },
  {
   "cell_type": "code",
   "execution_count": 12,
   "metadata": {},
   "outputs": [
    {
     "name": "stdout",
     "output_type": "stream",
     "text": [
      "Secuencia Exón 2: ATCATCGATCGATATCGATGCATCGACTACTAT\n"
     ]
    }
   ],
   "source": [
    "exon2=genomic_dna[90:]\n",
    "len(exon2)\n",
    "print(\"Secuencia Exón 2:\", exon2)"
   ]
  },
  {
   "cell_type": "markdown",
   "metadata": {},
   "source": [
    "   3. Para calcular el porcentaje de la secuencia codificante primero hay que localizar nuestra secuencia codificante y su longitud (sumamos la logtitud de ambos exones). Por otro lado, hacemos lo mismo con la del genoma. Finalmente dividimos la longitud codificante entre la del genoma total y lo multiplicamos por 100 (vemos el resultado gracias a print() y le ponemos nombre y %)"
   ]
  },
  {
   "cell_type": "code",
   "execution_count": 13,
   "metadata": {},
   "outputs": [
    {
     "name": "stdout",
     "output_type": "stream",
     "text": [
      "Porcentaje de la secuencia codificante: 78.04878048780488 %\n"
     ]
    }
   ],
   "source": [
    "longitud_secuencia_codificante = len(exon1) + len(exon2)\n",
    "longitud_genoma = len(genomic_dna)\n",
    "porcentaje_codificante = (longitud_secuencia_codificante / longitud_genoma) * 100\n",
    "print (\"Porcentaje de la secuencia codificante:\", porcentaje_codificante, \"%\")"
   ]
  },
  {
   "cell_type": "markdown",
   "metadata": {},
   "source": [
    "4. Para imprimir la secuencia original con los exones en mayúculas y los intrones en minúsculas hay que sumar la secuencia del exon1.upper() para que las letras salgan en mayúsculas, la secuencia entre medio de los exones (desde la base 63 hasta la 90).lower() para que salga en minúsculas y la del exon2 igual que el exon1. Utilizo la función print() para ver el resultado y le pongo nombre."
   ]
  },
  {
   "cell_type": "code",
   "execution_count": 14,
   "metadata": {},
   "outputs": [
    {
     "name": "stdout",
     "output_type": "stream",
     "text": [
      "Secuencia final con EXONES e intrones: ATCGATCGATCGATCGACTGACTAGTCATAGCTATGCATGTAGCTACTCGATCGATCGATCGAtcgatcgatcgatcgatcgatcatgctATCATCGATCGATATCGATGCATCGACTACTAT\n"
     ]
    }
   ],
   "source": [
    "secuencia_final = exon1.upper() + genomic_dna[63:90].lower() + exon2.upper()\n",
    "print(\"Secuencia final con EXONES e intrones:\", secuencia_final)"
   ]
  },
  {
   "cell_type": "markdown",
   "metadata": {},
   "source": [
    "##\n",
    "### 4.- ESCRIBE UN ARCHIVO FASTA\n",
    "#### Escribe un archivo FASTA que tenga las siguientes secuencias:\n",
    "1. ABC123 \tATCGTACGATCGATCGATCGCTAGACGTATCG\n",
    "2. DEF456 \tactgatcgacgatcgatcgatcacgact\n",
    "3. HIJ789 \tACTGAC-ACTGT--ACTGTA----CATGTG\n",
    "\n",
    "###### *Ten en cuenta que todas las secuencias deben tener solo ATGC caracteres y tienen que estar en mayúsculas\n",
    "###### Recuerda que las secuencias en FASTA empiezan por una línea \">identificador\" y la siguiente línea tiene la secuencia\n",
    "\n",
    "###### >ABC123\n",
    "###### ATCGTACGATCGATCGATCGCTAGACGTATCG\n",
    "###### >DEF456\n",
    "###### ACTGATCGACGATCGATCGATCACGACT\n",
    "###### >HIJ789\n",
    "###### ACTGACACTGTACTGTACATGTG"
   ]
  },
  {
   "cell_type": "code",
   "execution_count": 63,
   "metadata": {},
   "outputs": [
    {
     "name": "stdout",
     "output_type": "stream",
     "text": [
      "ABC123\n",
      "ATCGTACGATCGATCGATCGCTAGACGTATCG\n",
      "DEF456\n",
      "actgatcgacgatcgatcgatcacgact\n",
      "HIJ789\n",
      "ACTGAC-ACTGT--ACTGTA----CATGTG\n"
     ]
    }
   ],
   "source": [
    "d={\n",
    "    'ABC123' :'ATCGTACGATCGATCGATCGCTAGACGTATCG',\n",
    "    'DEF456' : 'actgatcgacgatcgatcgatcacgact',\n",
    "    'HIJ789' : 'ACTGAC-ACTGT--ACTGTA----CATGTG'\n",
    "}\n",
    "\n",
    "for key in d.keys():\n",
    "    print(key)\n",
    "    print(d[key])"
   ]
  },
  {
   "cell_type": "markdown",
   "metadata": {},
   "source": [
    "Para este ejercicio hay que crear un archivo FASTA con las secuencias proporcionadas. El resultado tiene que ir precedido del >indentificador y debajo de este tiene que estar la secuencia en mayúsculas. En la primera secuencia no hay que cambiar nada, solo añadirle el >. La secunda secuencia se encuentra en minúsculas, por lo que hay que ponerlas en mayúsculas. Por último, la tercera secuencia sí que está en mayúsculas pero se encuantra separada por --, por lo que los eliminamos."
   ]
  },
  {
   "cell_type": "markdown",
   "metadata": {},
   "source": [
    "Finalmente, se me crea un archivo FASTA con las secuencias en el ordenador"
   ]
  },
  {
   "cell_type": "code",
   "execution_count": 64,
   "metadata": {},
   "outputs": [
    {
     "name": "stdout",
     "output_type": "stream",
     "text": [
      ">ABC123\n",
      "ATCGTACGATCGATCGATCGCTAGACGTATCG\n",
      ">DEF456\n",
      "ACTGATCGACGATCGATCGATCACGACT\n",
      ">HIJ789\n",
      "ACTGACACTGTACTGTACATGTG\n"
     ]
    }
   ],
   "source": [
    "d = {\n",
    "    'ABC123': 'ATCGTACGATCGATCGATCGCTAGACGTATCG',\n",
    "    'DEF456': 'actgatcgacgatcgatcgatcacgact',\n",
    "    'HIJ789': 'ACTGAC-ACTGT--ACTGTA----CATGTG'\n",
    "}\n",
    "\n",
    "for key in d.keys():\n",
    "    final_sequence = d[key].replace('-', '')\n",
    "    print(f\">{key}\")\n",
    "    print(final_sequence.upper())\n"
   ]
  },
  {
   "cell_type": "markdown",
   "metadata": {},
   "source": [
    "##\n",
    "### 5.- ELIMINA ADAPTADORES\n",
    "#### El archivo input.txt tiene unas secuencias de ADN, una por línea. \n",
    "#### Todas las secuencias empiezan con el mismo adaptador que llega hasta la base 14. Escribe un programa que:\n",
    "1. Remueva el adaptador de la secuencia y escriba la secuencia limpia en un archivo\n",
    "2. Imprima en pantalla la longitud de cada secuencia limpia"
   ]
  },
  {
   "cell_type": "markdown",
   "metadata": {},
   "source": [
    "Primero creo una lista con las secuencias de ADN del archivo input.txt, donde vemos que las primeras 14 bases son iguasles en todas las secuencias"
   ]
  },
  {
   "cell_type": "code",
   "execution_count": 69,
   "metadata": {},
   "outputs": [],
   "source": [
    "secuencias = [\n",
    "    \"ATTCGATTATAAGCTCGATCGATCGATCGATCGATCGATCGATCGATCGATCGATC\",\n",
    "    \"ATTCGATTATAAGCACTGATCGATCGATCGATCGATCGATGCTATCGTCGT\",\n",
    "    \"ATTCGATTATAAGCATCGATCACGATCTATCGTACGTATGCATATCGATATCGATCGTAGTC\",\n",
    "    \"ATTCGATTATAAGCACTATCGATGATCTAGCTACGATCGTAGCTGTA\",\n",
    "    \"ATTCGATTATAAGCACTAGCTAGTCTCGATGCATGATCAGCTTAGCTGATGATGCTATGCA\"]"
   ]
  },
  {
   "cell_type": "markdown",
   "metadata": {},
   "source": [
    "Ahora creo un archivo que se llame secuencias_limpias. Éste tiene te estar en formato .txt y se me guarda en el ordenador"
   ]
  },
  {
   "cell_type": "code",
   "execution_count": 70,
   "metadata": {},
   "outputs": [],
   "source": [
    "archivo = 'secuencias_limpias.txt'"
   ]
  },
  {
   "cell_type": "markdown",
   "metadata": {},
   "source": [
    "El siguiente paso es abrir el archivo (la w se refiere a quew es un tipo de archivo write) y hacer un bucle for en el que por cada una de las secuencias de ADN de mi lista \"secuencias\" que creé al principio me elimine las 14 primeras posiciones (solo me quedo desde la posición 14 hasta el final de cada una de las secuencias) y me escriba estas secuencias limpas en el archivo secuencias_limpias (\\n es para que las 5 secuencias no me salgan todas seguidas)."
   ]
  },
  {
   "cell_type": "code",
   "execution_count": 71,
   "metadata": {
    "scrolled": true
   },
   "outputs": [
    {
     "name": "stdout",
     "output_type": "stream",
     "text": [
      "Longitud de la secuencia limpia: 42\n",
      "Longitud de la secuencia limpia: 37\n",
      "Longitud de la secuencia limpia: 48\n",
      "Longitud de la secuencia limpia: 33\n",
      "Longitud de la secuencia limpia: 47\n"
     ]
    }
   ],
   "source": [
    "with open(archivo, \"w\") as archivo:\n",
    "    for secuencia in secuencias:\n",
    "        secuencia_limpia = secuencia[14:]\n",
    "        archivo.write(secuencia_limpia + \"\\n\")\n",
    "        \n",
    "        print(f\"Longitud de la secuencia limpia: {len(secuencia_limpia)}\")"
   ]
  },
  {
   "cell_type": "markdown",
   "metadata": {},
   "source": [
    "Por último imprimimos la longitud de cada una de las secuencias del archivo secuencias_limpias"
   ]
  },
  {
   "cell_type": "markdown",
   "metadata": {},
   "source": [
    "##\n",
    "### 6.- PORCENTAJE DE AMINO ACIDOS\n",
    "#### Escribe una función que tome dos argumentos: una secuencia de proteínas y un amino ácido. \n",
    "#### Queremos que devuelva el porcentaje del amino ácido en la secuencia de proteínas. \n",
    "#### Una vez que tengas hecha tu función, emplea las siguientes aserciones para comprobar tu código."
   ]
  },
  {
   "cell_type": "markdown",
   "metadata": {},
   "source": [
    "Lo primero que hay que hacer es crear una función (def) para obtener el porcentaje de aminoácidos (portentaje_aa) que contenga la secuencia de proteínas y los aa."
   ]
  },
  {
   "cell_type": "markdown",
   "metadata": {},
   "source": [
    "Dentro de ésta, lo primero que hay que hacer es poner en mayúculas o en minúsculas ambas secuencias para que a la hora de ver el portentaje de aminoácidos en la secuencia de proteínas pueda ser reconocible. Esto se hace por medio de la creación de las variables añadiendo .upper()"
   ]
  },
  {
   "cell_type": "markdown",
   "metadata": {},
   "source": [
    "Ahora con la variable contador_aa vamos a ver los aminoácidos que hay dentro de la secuencia de proteínas "
   ]
  },
  {
   "cell_type": "markdown",
   "metadata": {},
   "source": [
    "Para calcular el porcentaje hay que dividir la variable de contador_aa entre la longitud de la secuencia de poteínas y el resultado multiplicarlo por 100. Finalmente, utilizo return para que el programa de devuelva el resultado y reound para que el porcentaje me dé sin decimales."
   ]
  },
  {
   "cell_type": "code",
   "execution_count": 58,
   "metadata": {},
   "outputs": [],
   "source": [
    "def porcentaje_aa(secuencia_proteinas, aa):\n",
    "    secuencia_proteinas = secuencia_proteinas.upper()\n",
    "    aa = aa.upper()\n",
    "    contador_aa = secuencia_proteinas.count(aa)\n",
    "    porcentaje = (contador_aa / len(secuencia_proteinas)) * 100\n",
    "    \n",
    "    return round(porcentaje)"
   ]
  },
  {
   "cell_type": "markdown",
   "metadata": {},
   "source": [
    "Assert nos va a comparar  los resultados que hemos generado con los que te tendrían que dar. En este caso, he corrido la celda para comprobar y no hay error, por lo que los álculos son correctos."
   ]
  },
  {
   "cell_type": "code",
   "execution_count": 62,
   "metadata": {},
   "outputs": [],
   "source": [
    "assert porcentaje_aa(\"MSRSLLLRFLLFLLLLPPLP\", \"M\") == 5\n",
    "assert porcentaje_aa(\"MSRSLLLRFLLFLLLLPPLP\", \"r\") == 10\n",
    "assert porcentaje_aa(\"msrslllrfllfllllpplp\", \"L\") == 50\n",
    "assert porcentaje_aa(\"MSRSLLLRFLLFLLLLPPLP\", \"Y\") == 0"
   ]
  }
 ],
 "metadata": {
  "kernelspec": {
   "display_name": "Python 3 (ipykernel)",
   "language": "python",
   "name": "python3"
  },
  "language_info": {
   "codemirror_mode": {
    "name": "ipython",
    "version": 3
   },
   "file_extension": ".py",
   "mimetype": "text/x-python",
   "name": "python",
   "nbconvert_exporter": "python",
   "pygments_lexer": "ipython3",
   "version": "3.11.4"
  }
 },
 "nbformat": 4,
 "nbformat_minor": 4
}
